{
 "cells": [
  {
   "cell_type": "code",
   "execution_count": 1,
   "metadata": {},
   "outputs": [],
   "source": [
    "import sys\n",
    "from pathlib import Path\n",
    "sys.path.append(str(Path.cwd().parent))"
   ]
  },
  {
   "cell_type": "code",
   "execution_count": 12,
   "metadata": {},
   "outputs": [],
   "source": [
    "import logging\n",
    "from itertools import chain\n",
    "\n",
    "import polars as pl\n",
    "from matplotlib import pyplot as plt\n",
    "from sklearn.model_selection import train_test_split\n",
    "import tensorflow as tf\n",
    "\n",
    "from playground.logs import setup_logging"
   ]
  },
  {
   "cell_type": "code",
   "execution_count": 3,
   "metadata": {},
   "outputs": [],
   "source": [
    "setup_logging()\n",
    "logger = logging.getLogger(__name__)"
   ]
  },
  {
   "cell_type": "markdown",
   "metadata": {},
   "source": [
    "# Load data"
   ]
  },
  {
   "cell_type": "code",
   "execution_count": 4,
   "metadata": {},
   "outputs": [],
   "source": [
    "TRAIN_FILE_PATH = Path.cwd() / \"train.csv\"\n",
    "assert TRAIN_FILE_PATH.exists()\n",
    "assert TRAIN_FILE_PATH.is_file()"
   ]
  },
  {
   "cell_type": "code",
   "execution_count": 5,
   "metadata": {},
   "outputs": [
    {
     "data": {
      "text/plain": [
       "(5407, 11)"
      ]
     },
     "execution_count": 5,
     "metadata": {},
     "output_type": "execute_result"
    }
   ],
   "source": [
    "train_df = pl.read_csv(TRAIN_FILE_PATH).with_columns([\n",
    "    pl.lit(0.0).alias(\"is_old\"),\n",
    "])\n",
    "train_df.shape"
   ]
  },
  {
   "cell_type": "code",
   "execution_count": 6,
   "metadata": {},
   "outputs": [],
   "source": [
    "TEST_FILE_PATH = Path.cwd() / \"test.csv\"\n",
    "assert TEST_FILE_PATH.exists()\n",
    "assert TEST_FILE_PATH.is_file()"
   ]
  },
  {
   "cell_type": "code",
   "execution_count": 7,
   "metadata": {},
   "outputs": [
    {
     "data": {
      "text/plain": [
       "(3605, 10)"
      ]
     },
     "execution_count": 7,
     "metadata": {},
     "output_type": "execute_result"
    }
   ],
   "source": [
    "test_df = pl.read_csv(TEST_FILE_PATH).with_columns([\n",
    "    pl.lit(0.0).alias(\"is_old\"),\n",
    "])\n",
    "test_df.shape"
   ]
  },
  {
   "cell_type": "code",
   "execution_count": 8,
   "metadata": {},
   "outputs": [],
   "source": [
    "OLD_TRAIN_FILE_PATH = Path.cwd() / \"old.csv\"\n",
    "assert OLD_TRAIN_FILE_PATH.exists()\n",
    "assert OLD_TRAIN_FILE_PATH.is_file()"
   ]
  },
  {
   "cell_type": "code",
   "execution_count": 9,
   "metadata": {},
   "outputs": [
    {
     "data": {
      "text/plain": [
       "(1030, 11)"
      ]
     },
     "execution_count": 9,
     "metadata": {},
     "output_type": "execute_result"
    }
   ],
   "source": [
    "old_df = pl.read_csv(OLD_TRAIN_FILE_PATH).with_columns([\n",
    "    pl.lit(1.0).alias(\"is_old\"),\n",
    "    pl.lit(-1, dtype=pl.Int64).alias(\"id\"),\n",
    "])\n",
    "old_df.shape"
   ]
  },
  {
   "cell_type": "markdown",
   "metadata": {},
   "source": [
    "# Feature engineering"
   ]
  },
  {
   "cell_type": "code",
   "execution_count": 10,
   "metadata": {},
   "outputs": [],
   "source": [
    "def feature_engineering(df: pl.DataFrame) -> pl.DataFrame:\n",
    "    return df.with_columns(\n",
    "        [\n",
    "            (\n",
    "                pl.col(\"CementComponent\")\n",
    "                + pl.col(\"BlastFurnaceSlag\")\n",
    "                + pl.col(\"FlyAshComponent\")\n",
    "                + pl.col(\"WaterComponent\")\n",
    "                + pl.col(\"SuperplasticizerComponent\")\n",
    "                + pl.col(\"CoarseAggregateComponent\")\n",
    "                + pl.col(\"FineAggregateComponent\")\n",
    "            ).alias(\"TotalComponent\"),\n",
    "            (pl.col(\"WaterComponent\") / pl.col(\"CementComponent\")).alias(\"WCR\"),\n",
    "            (\n",
    "                (pl.col(\"CoarseAggregateComponent\") + pl.col(\"FineAggregateComponent\"))\n",
    "                / pl.col(\"CementComponent\")\n",
    "            ).alias(\"AR\"),\n",
    "            (\n",
    "                pl.col(\"WaterComponent\")\n",
    "                / (\n",
    "                    pl.col(\"CementComponent\")\n",
    "                    + pl.col(\"BlastFurnaceSlag\")\n",
    "                    + pl.col(\"FlyAshComponent\")\n",
    "                )\n",
    "            ).alias(\"WCPR\"),\n",
    "            (pl.col(\"CementComponent\") * pl.col(\"AgeInDays\")).alias(\"CementAge\"),\n",
    "        ]\n",
    "    )\n"
   ]
  },
  {
   "cell_type": "code",
   "execution_count": 14,
   "metadata": {},
   "outputs": [],
   "source": [
    "train_df = feature_engineering(train_df)\n",
    "test_df = feature_engineering(test_df)\n",
    "old_df = feature_engineering(old_df)"
   ]
  },
  {
   "cell_type": "markdown",
   "metadata": {},
   "source": [
    "# Feature transformation"
   ]
  },
  {
   "cell_type": "code",
   "execution_count": 15,
   "metadata": {},
   "outputs": [],
   "source": [
    "ID_COLUMN = 'id'\n",
    "FEATURE_COLUMNS = [\n",
    "    \"CementComponent\",\n",
    "    \"BlastFurnaceSlag\",\n",
    "    \"FlyAshComponent\",\n",
    "    \"WaterComponent\",\n",
    "    \"SuperplasticizerComponent\",\n",
    "    \"CoarseAggregateComponent\",\n",
    "    \"FineAggregateComponent\",\n",
    "    \"AgeInDays\",\n",
    "]\n",
    "FEATURE_ENGINEERING_COLUMNS = [\n",
    "    \"TotalComponent\",\n",
    "    \"WCR\",\n",
    "    \"AR\",\n",
    "    \"WCPR\",\n",
    "    \"CementAge\",\n",
    "]\n",
    "OLD_COLUMN = 'is_old'\n",
    "TARGET_COLUMN = \"Strength\"\n"
   ]
  },
  {
   "cell_type": "code",
   "execution_count": 25,
   "metadata": {},
   "outputs": [
    {
     "data": {
      "text/plain": [
       "{'CementComponent': 299.16818938413167,\n",
       " 'BlastFurnaceSlag': 58.610578879230644,\n",
       " 'FlyAshComponent': 31.87279452561494,\n",
       " 'WaterComponent': 185.0762345108192,\n",
       " 'SuperplasticizerComponent': 4.10844090993157,\n",
       " 'CoarseAggregateComponent': 992.0007175883115,\n",
       " 'FineAggregateComponent': 771.2199741076375,\n",
       " 'AgeInDays': 51.75161827260958,\n",
       " 'TotalComponent': 2342.0569299056774,\n",
       " 'WCR': 0.7113620871120672,\n",
       " 'AR': 6.799149445747457,\n",
       " 'WCPR': 0.5093132096756268,\n",
       " 'CementAge': 16194.54938043278}"
      ]
     },
     "execution_count": 25,
     "metadata": {},
     "output_type": "execute_result"
    }
   ],
   "source": [
    "means = dict(\n",
    "    zip(\n",
    "        chain(FEATURE_COLUMNS, FEATURE_ENGINEERING_COLUMNS),\n",
    "        train_df.select([pl.col(col).mean() for col in chain(FEATURE_COLUMNS, FEATURE_ENGINEERING_COLUMNS)]).row(0),\n",
    "    )\n",
    ")\n",
    "means\n"
   ]
  },
  {
   "cell_type": "code",
   "execution_count": 26,
   "metadata": {},
   "outputs": [
    {
     "data": {
      "text/plain": [
       "{'CementComponent': 105.53768168118059,\n",
       " 'BlastFurnaceSlag': 83.41780074487346,\n",
       " 'FlyAshComponent': 54.60500297587532,\n",
       " 'WaterComponent': 18.517583489378303,\n",
       " 'SuperplasticizerComponent': 5.692296206281762,\n",
       " 'CoarseAggregateComponent': 77.14801045239005,\n",
       " 'FineAggregateComponent': 78.72525270217871,\n",
       " 'AgeInDays': 70.00697526599377,\n",
       " 'TotalComponent': 82.99079547470946,\n",
       " 'WCR': 0.2969808984899278,\n",
       " 'AR': 2.8016614322803455,\n",
       " 'WCPR': 0.154443627410152,\n",
       " 'CementAge': 25399.85786075349}"
      ]
     },
     "execution_count": 26,
     "metadata": {},
     "output_type": "execute_result"
    }
   ],
   "source": [
    "stds = dict(\n",
    "    zip(\n",
    "        chain(FEATURE_COLUMNS, FEATURE_ENGINEERING_COLUMNS),\n",
    "        train_df.select([pl.col(col).std() for col in chain(FEATURE_COLUMNS, FEATURE_ENGINEERING_COLUMNS)]).row(0),\n",
    "    )\n",
    ")\n",
    "stds"
   ]
  },
  {
   "cell_type": "code",
   "execution_count": 27,
   "metadata": {},
   "outputs": [],
   "source": [
    "def transform(df: pl.DataFrame) -> pl.DataFrame:\n",
    "    return df.with_columns(\n",
    "        [(pl.col(col) - means[col]) / stds[col] for col in chain(FEATURE_COLUMNS, FEATURE_ENGINEERING_COLUMNS)]\n",
    "        + [pl.col(OLD_COLUMN)]\n",
    "    )\n"
   ]
  },
  {
   "cell_type": "code",
   "execution_count": 29,
   "metadata": {},
   "outputs": [],
   "source": [
    "train_transformed_df = transform(train_df)\n",
    "test_transformed_df = transform(test_df)\n",
    "old_transformed_df = transform(old_df)"
   ]
  },
  {
   "cell_type": "code",
   "execution_count": 30,
   "metadata": {},
   "outputs": [],
   "source": [
    "train_ids, rest_ids = train_test_split(train_transformed_df[ID_COLUMN], test_size=0.2, random_state=42)"
   ]
  },
  {
   "cell_type": "code",
   "execution_count": 31,
   "metadata": {},
   "outputs": [],
   "source": [
    "val_ids, eval_ids = train_test_split(rest_ids, test_size=0.5, random_state=42)"
   ]
  },
  {
   "cell_type": "code",
   "execution_count": 32,
   "metadata": {},
   "outputs": [
    {
     "name": "stderr",
     "output_type": "stream",
     "text": [
      "[2023-03-11 11:17:43,470][   DEBUG][__main__] Train samples 4325, validation samples 541, evaluation samples 541\n"
     ]
    }
   ],
   "source": [
    "logger.debug(\"Train samples %s, validation samples %s, evaluation samples %s\", len(train_ids), len(val_ids), len(eval_ids))"
   ]
  },
  {
   "cell_type": "code",
   "execution_count": 33,
   "metadata": {},
   "outputs": [],
   "source": [
    "train_split_df = train_transformed_df.filter(pl.col(ID_COLUMN).is_in(train_ids))\n",
    "val_split_df = train_transformed_df.filter(pl.col(ID_COLUMN).is_in(val_ids))\n",
    "eval_split_df = train_transformed_df.filter(pl.col(ID_COLUMN).is_in(eval_ids))"
   ]
  },
  {
   "cell_type": "code",
   "execution_count": 34,
   "metadata": {},
   "outputs": [
    {
     "name": "stderr",
     "output_type": "stream",
     "text": [
      "[2023-03-11 11:17:49,550][   DEBUG][__main__] Train samples 4325, validation samples 541, evaluation samples 541\n"
     ]
    }
   ],
   "source": [
    "logger.debug(\"Train samples %s, validation samples %s, evaluation samples %s\", len(train_split_df), len(val_split_df), len(eval_split_df))"
   ]
  },
  {
   "cell_type": "code",
   "execution_count": 35,
   "metadata": {},
   "outputs": [
    {
     "data": {
      "text/plain": [
       "(5355, 16)"
      ]
     },
     "execution_count": 35,
     "metadata": {},
     "output_type": "execute_result"
    }
   ],
   "source": [
    "train_and_old_split_df = pl.concat([train_split_df, old_transformed_df.select(train_split_df.columns)])\n",
    "train_and_old_split_df.shape"
   ]
  },
  {
   "cell_type": "code",
   "execution_count": 36,
   "metadata": {},
   "outputs": [],
   "source": [
    "def df_to_dataset(df: pl.DataFrame) -> tf.data.Dataset:\n",
    "    return tf.data.Dataset.from_tensor_slices({\n",
    "        col: df[col].to_numpy()\n",
    "        for col in df.columns\n",
    "    })"
   ]
  },
  {
   "cell_type": "code",
   "execution_count": 37,
   "metadata": {},
   "outputs": [],
   "source": [
    "def pop_target(tensors: dict[str, tf.Tensor]) -> tuple[dict[str, tf.Tensor], tf.Tensor]:\n",
    "    target = tensors.pop(TARGET_COLUMN)\n",
    "    return tensors, target"
   ]
  },
  {
   "cell_type": "code",
   "execution_count": 38,
   "metadata": {},
   "outputs": [
    {
     "name": "stderr",
     "output_type": "stream",
     "text": [
      "2023-03-11 11:18:01.203374: W tensorflow/compiler/xla/stream_executor/platform/default/dso_loader.cc:64] Could not load dynamic library 'libcuda.so.1'; dlerror: libcuda.so.1: cannot open shared object file: No such file or directory\n",
      "2023-03-11 11:18:01.203709: W tensorflow/compiler/xla/stream_executor/cuda/cuda_driver.cc:265] failed call to cuInit: UNKNOWN ERROR (303)\n",
      "2023-03-11 11:18:01.203747: I tensorflow/compiler/xla/stream_executor/cuda/cuda_diagnostics.cc:156] kernel driver does not appear to be running on this host (zenbook): /proc/driver/nvidia/version does not exist\n",
      "2023-03-11 11:18:01.206038: I tensorflow/core/platform/cpu_feature_guard.cc:193] This TensorFlow binary is optimized with oneAPI Deep Neural Network Library (oneDNN) to use the following CPU instructions in performance-critical operations:  AVX2 FMA\n",
      "To enable them in other operations, rebuild TensorFlow with the appropriate compiler flags.\n"
     ]
    }
   ],
   "source": [
    "batch_size = 32\n",
    "train_ds = df_to_dataset(train_and_old_split_df).shuffle(len(train_and_old_split_df), reshuffle_each_iteration=True).batch(batch_size).map(pop_target)\n",
    "val_ds = df_to_dataset(val_split_df).batch(batch_size).map(pop_target)\n",
    "eval_ds = df_to_dataset(eval_split_df).batch(batch_size).map(pop_target)"
   ]
  },
  {
   "cell_type": "code",
   "execution_count": 39,
   "metadata": {},
   "outputs": [
    {
     "name": "stderr",
     "output_type": "stream",
     "text": [
      "[2023-03-11 11:18:03,708][   DEBUG][__main__] Inputs: {'id': <tf.Tensor: shape=(32,), dtype=int64, numpy=\n",
      "array([5153, 3587,  572, 4048, 4755, 3625, 3781,   -1, 2147, 1314, 2561,\n",
      "         78, 1988, 2535,   52, 2162,   -1,  276,  943,   -1,   -1, 3898,\n",
      "         41, 2866, 2828, 3694, 5311, 5110,  703,  503, 2964, 2980])>, 'CementComponent': <tf.Tensor: shape=(32,), dtype=float64, numpy=\n",
      "array([-0.82120611, -0.5843239 ,  2.19951592,  0.7185283 ,  0.60103472,\n",
      "       -1.5460657 , -0.80888824, -1.50911207, -0.80888824, -1.03440011,\n",
      "       -0.09634653,  2.28195093,  2.28195093,  1.90293938,  0.31582853,\n",
      "        0.88908349, -0.95291263,  0.10263453, -0.702765  , -0.44693221,\n",
      "       -1.25422681,  0.30161559,  0.47217079,  1.66605716, -0.63833304,\n",
      "        1.21598095, -1.19548002,  0.05810068,  1.81766178, -1.80853119,\n",
      "        0.88908349, -0.44693221])>, 'BlastFurnaceSlag': <tf.Tensor: shape=(32,), dtype=float64, numpy=\n",
      "array([-0.70261477,  2.14449937, -0.70261477, -0.70261477,  1.56308869,\n",
      "       -0.70261477,  0.47339322,  0.88697401,  0.47339322,  1.57507654,\n",
      "       -0.70261477, -0.70261477, -0.70261477, -0.70261477, -0.70261477,\n",
      "       -0.70261477,  0.88457644, -0.70261477, -0.70261477, -0.70261477,\n",
      "        2.29674505, -0.70261477, -0.70261477, -0.70261477, -0.70261477,\n",
      "        0.57169358,  0.68797572,  1.7369125 , -0.3909307 ,  1.2609949 ,\n",
      "       -0.70261477, -0.70261477])>, 'FlyAshComponent': <tf.Tensor: shape=(32,), dtype=float64, numpy=\n",
      "array([ 1.25496203, -0.58369733, -0.58369733, -0.58369733, -0.58369733,\n",
      "        1.72378354, -0.13502049,  1.30807072, -0.13502049, -0.58369733,\n",
      "       -0.58369733, -0.58369733, -0.58369733, -0.58369733, -0.58369733,\n",
      "       -0.58369733, -0.58369733, -0.58369733, -0.58369733, -0.58369733,\n",
      "       -0.58369733, -0.58369733, -0.58369733, -0.58369733,  1.64320485,\n",
      "       -0.58369733, -0.58369733, -0.58369733,  1.66884352,  1.14874466,\n",
      "       -0.58369733, -0.58369733])>, 'WaterComponent': <tf.Tensor: shape=(32,), dtype=float64, numpy=\n",
      "array([-1.39198695,  2.31800038, -2.33703466,  0.04988586, -1.08957168,\n",
      "       -0.70615232, -0.18232587,  0.82212485, -0.18232587,  2.31800038,\n",
      "        0.37390222, -0.65214959, -0.65214959,  0.80592403,  2.31800038,\n",
      "        0.37390222,  0.37390222,  0.37390222, -0.22012778,  0.04988586,\n",
      "        0.99493357,  0.37390222,  0.37390222,  2.31800038, -0.59814686,\n",
      "       -1.70520276,  0.37390222,  0.99493357,  1.3459513 ,  0.99493357,\n",
      "        0.37390222, -0.00411687])>, 'SuperplasticizerComponent': <tf.Tensor: shape=(32,), dtype=float64, numpy=\n",
      "array([ 0.80662687, -0.72175459,  4.23230946, -0.72175459,  1.31608736,\n",
      "        1.03500571,  0.45527481,  0.57824803,  0.45527481, -0.72175459,\n",
      "       -0.72175459, -0.72175459, -0.72175459, -0.72175459, -0.72175459,\n",
      "       -0.72175459, -0.72175459, -0.72175459, -0.72175459, -0.72175459,\n",
      "       -0.72175459, -0.72175459, -0.72175459, -0.72175459,  0.45527481,\n",
      "        2.17689991, -0.72175459, -0.72175459, -0.03661807, -0.44067294,\n",
      "       -0.72175459, -0.72175459])>, 'CoarseAggregateComponent': <tf.Tensor: shape=(32,), dtype=float64, numpy=\n",
      "array([ 0.15294344, -0.77773513, -1.81340668,  0.59624716, -0.61311649,\n",
      "       -0.894394  ,  0.95918588, -0.98512868,  0.95918588, -0.77773513,\n",
      "       -1.02142255,  1.65913912,  1.72394961,  1.72394961, -0.77773513,\n",
      "       -0.66626109, -0.17629382,  0.25923264,  1.56840444,  1.54248025,\n",
      "       -0.21258769,  0.4277399 ,  0.82956491, -0.77773513,  0.83474975,\n",
      "       -1.81340668, -0.58589609, -0.34480108, -1.42583998, -0.58330367,\n",
      "       -0.67403835,  1.54248025])>, 'FineAggregateComponent': <tf.Tensor: shape=(32,), dtype=float64, numpy=\n",
      "array([ 1.68408511, -2.25111979,  1.55579083, -0.16792546, -0.19587075,\n",
      "       -0.09171103,  0.18139066, -0.22635652,  0.18139066, -1.28573705,\n",
      "        1.57611467, -2.02501699, -2.0097741 , -2.0097741 , -2.25111979,\n",
      "        0.1826609 ,  0.68948684,  0.74664766,  0.78475488,  0.16233706,\n",
      "       -0.99866271,  0.63232602,  0.47989717, -2.25111979,  0.09247383,\n",
      "       -2.25111979,  1.0870721 , -1.78113082, -0.91736732, -0.31019239,\n",
      "       -0.16792546,  0.16233706])>, 'AgeInDays': <tf.Tensor: shape=(32,), dtype=float64, numpy=\n",
      "array([-0.6963823 ,  4.47453101, -0.33927502, -0.63924513, -0.63924513,\n",
      "       -0.33927502, -0.5392551 , -0.33927502, -0.6963823 , -0.33927502,\n",
      "       -0.63924513, -0.6963823 , -0.63924513, -0.33927502, -0.6963823 ,\n",
      "        0.54635101,  0.54635101,  0.97487974, -0.63924513, -0.63924513,\n",
      "       -0.33927502,  4.40310956, -0.6963823 ,  4.47453101,  0.68919392,\n",
      "        0.06068512,  0.54635101,  0.54635101,  0.54635101, -0.33927502,\n",
      "       -0.33927502, -0.33927502])>, 'is_old': <tf.Tensor: shape=(32,), dtype=float64, numpy=\n",
      "array([0., 0., 0., 0., 0., 0., 0., 1., 0., 0., 0., 0., 0., 0., 0., 0., 1.,\n",
      "       0., 0., 1., 1., 0., 0., 0., 0., 0., 0., 0., 0., 0., 0., 0.])>, 'TotalComponent': <tf.Tensor: shape=(32,), dtype=float64, numpy=\n",
      "array([ 0.55961712, -1.36228276,  1.26571952,  0.18005696,  1.04280324,\n",
      "       -2.54313661,  0.41261287, -1.07429902,  0.41261287, -1.59122381,\n",
      "       -0.63328625,  1.23800561,  1.31271269,  1.15606881, -3.07934065,\n",
      "       -0.37181147, -0.18263387,  0.02341308,  0.11980931, -0.10913174,\n",
      "       -0.64292588,  0.32465131,  0.77048388, -1.36228276,  0.32465131,\n",
      "       -2.31540051, -0.69232895, -0.4019353 ,  1.11871527, -0.92127   ,\n",
      "       -0.71160819, -0.12118127])>, 'WCR': <tf.Tensor: shape=(32,), dtype=float64, numpy=\n",
      "array([ 0.12891392,  0.83721854, -1.49662676, -0.72517151, -0.86399829,\n",
      "        1.86323026,  0.46635186,  2.42566061,  0.46635186,  1.64535132,\n",
      "       -0.15826683, -1.3165551 , -1.3165551 , -1.04842462, -0.08636179,\n",
      "       -0.75025859,  0.86000576, -0.30980864,  0.31342877,  0.0900164 ,\n",
      "        1.71277647, -0.44212158, -0.54285923, -0.77904703,  0.13228131,\n",
      "       -1.18626404,  1.34171761, -0.15086695, -0.95515743,  3.93182734,\n",
      "       -0.75025859,  0.07665441])>, 'AR': <tf.Tensor: shape=(32,), dtype=float64, numpy=\n",
      "array([ 0.77732152, -0.13345163, -1.25398697, -0.71736581, -0.75291349,\n",
      "        2.00069225,  0.66418202,  1.83236263,  0.66418202,  0.5826648 ,\n",
      "       -0.19322962, -1.28213651, -1.27803841, -1.18613527, -0.78870192,\n",
      "       -0.85905563,  0.81520633, -0.30596629,  0.66022947,  0.2572373 ,\n",
      "        1.14291097, -0.43620909, -0.51944531, -1.28013964,  0.39859431,\n",
      "       -1.21944049,  1.29433344, -0.56045113, -1.27752416,  3.15553466,\n",
      "       -0.88466748,  0.2572373 ])>, 'WCPR': <tf.Tensor: shape=(32,), dtype=float64, numpy=\n",
      "array([-1.32649275e-03, -1.89798765e-01, -1.56963862e+00, -8.62010942e-02,\n",
      "       -1.36208078e+00,  9.52938897e-01,  1.99539389e-01,  1.53344397e-01,\n",
      "        1.99539389e-01,  5.87183763e-01,  1.00390450e+00, -1.22337737e+00,\n",
      "       -1.22337737e+00, -7.07787116e-01,  1.14217128e+00, -1.34441231e-01,\n",
      "        4.58077905e-01,  7.12503526e-01,  1.91093177e+00,  1.48133032e+00,\n",
      "       -1.37937820e-01,  4.58077905e-01,  2.64368673e-01, -1.89798765e-01,\n",
      "       -1.09770004e-01, -1.43581402e+00,  1.00390450e+00, -7.08041631e-01,\n",
      "       -1.17316728e+00,  2.95488659e-01, -1.34441231e-01,  1.45563646e+00])>, 'CementAge': <tf.Tensor: shape=(32,), dtype=float64, numpy=\n",
      "array([-0.61248569,  2.77532855, -0.05189594, -0.53423722, -0.53765456,\n",
      "       -0.48766215, -0.51974107, -0.48336292, -0.61233214, -0.42813426,\n",
      "       -0.55793814, -0.57380437, -0.48876452, -0.08640007, -0.59831238,\n",
      "        0.75494323,  0.06612047,  0.82699087, -0.57557603, -0.56813504,\n",
      "       -0.45370921,  4.05378058, -0.59636355,  6.18824135,  0.27501928,\n",
      "        0.30494071, -0.0245887 ,  0.44419345,  1.10218926, -0.51819776,\n",
      "       -0.20435348, -0.35978742])>}\n",
      "[2023-03-11 11:18:03,716][   DEBUG][__main__] Target: tf.Tensor(\n",
      "[20.59 52.44 71.3  24.1  52.91 29.55 29.16 36.44 12.84 25.57 13.29  9.85\n",
      " 13.2  19.11 13.18 49.25 38.07 30.65 16.89 11.47 33.95 35.08 25.12 53.52\n",
      " 37.91 55.5  33.49 50.24 41.16 39.66 59.76 25.51], shape=(32,), dtype=float64)\n"
     ]
    }
   ],
   "source": [
    "for inputs, target in train_ds.take(1):\n",
    "    logger.debug(\"Inputs: %s\", inputs)\n",
    "    logger.debug(\"Target: %s\", target)"
   ]
  },
  {
   "cell_type": "code",
   "execution_count": 40,
   "metadata": {},
   "outputs": [],
   "source": [
    "id_input = tf.keras.Input(shape=(), name=ID_COLUMN, dtype=tf.int64)\n",
    "feature_inputs = {\n",
    "    col: tf.keras.Input(shape=(), name=col, dtype=tf.float32)\n",
    "    for col in FEATURE_COLUMNS\n",
    "}\n",
    "feature_engineering_inputs = {\n",
    "    col: tf.keras.Input(shape=(), name=col, dtype=tf.float32)\n",
    "    for col in FEATURE_ENGINEERING_COLUMNS\n",
    "}\n",
    "old_input = tf.keras.Input(shape=(), name=OLD_COLUMN, dtype=tf.float32)"
   ]
  },
  {
   "cell_type": "code",
   "execution_count": 43,
   "metadata": {},
   "outputs": [],
   "source": [
    "concatenated_features = tf.stack([*feature_inputs.values(), *feature_engineering_inputs.values(), old_input], axis=1)\n",
    "seq = tf.keras.Sequential([\n",
    "    tf.keras.layers.Dense(128),\n",
    "    tf.keras.layers.BatchNormalization(),\n",
    "    tf.keras.layers.Activation('relu'),\n",
    "    tf.keras.layers.Dense(64),\n",
    "    tf.keras.layers.BatchNormalization(),\n",
    "    tf.keras.layers.Activation('relu'),\n",
    "    tf.keras.layers.Dense(1),\n",
    "])\n",
    "output = seq(concatenated_features)"
   ]
  },
  {
   "cell_type": "code",
   "execution_count": 44,
   "metadata": {},
   "outputs": [],
   "source": [
    "model = tf.keras.Model(inputs={**feature_inputs, **feature_engineering_inputs, OLD_COLUMN: old_input}, outputs=output)\n",
    "model.compile(\n",
    "    optimizer=tf.keras.optimizers.Adam(learning_rate=0.001),\n",
    "    loss=tf.keras.losses.MeanSquaredError(),\n",
    "    metrics=[tf.keras.metrics.MeanAbsoluteError(), tf.keras.metrics.RootMeanSquaredError()],\n",
    ")"
   ]
  },
  {
   "cell_type": "code",
   "execution_count": 45,
   "metadata": {},
   "outputs": [
    {
     "name": "stdout",
     "output_type": "stream",
     "text": [
      "Epoch 1/100\n"
     ]
    },
    {
     "name": "stderr",
     "output_type": "stream",
     "text": [
      "/home/kurazu/workspace/kaggle-playground-s03-e02/.venv/lib/python3.10/site-packages/keras/engine/functional.py:638: UserWarning: Input dict contained keys ['id'] which did not match any model input. They will be ignored by the model.\n",
      "  inputs = self._flatten_to_reference_inputs(inputs)\n"
     ]
    },
    {
     "name": "stdout",
     "output_type": "stream",
     "text": [
      "168/168 [==============================] - 3s 5ms/step - loss: 1329.4598 - mean_absolute_error: 33.1509 - root_mean_squared_error: 36.4618 - val_loss: 1208.7167 - val_mean_absolute_error: 31.4945 - val_root_mean_squared_error: 34.7666\n",
      "Epoch 2/100\n",
      "168/168 [==============================] - 1s 4ms/step - loss: 834.0414 - mean_absolute_error: 25.4905 - root_mean_squared_error: 28.8798 - val_loss: 655.4351 - val_mean_absolute_error: 22.1879 - val_root_mean_squared_error: 25.6015\n",
      "Epoch 3/100\n",
      "168/168 [==============================] - 1s 4ms/step - loss: 397.8356 - mean_absolute_error: 16.0743 - root_mean_squared_error: 19.9458 - val_loss: 229.9065 - val_mean_absolute_error: 11.5283 - val_root_mean_squared_error: 15.1627\n",
      "Epoch 4/100\n",
      "168/168 [==============================] - 1s 4ms/step - loss: 191.0296 - mean_absolute_error: 10.3287 - root_mean_squared_error: 13.8213 - val_loss: 150.7312 - val_mean_absolute_error: 9.4291 - val_root_mean_squared_error: 12.2773\n",
      "Epoch 5/100\n",
      "168/168 [==============================] - 1s 4ms/step - loss: 152.4322 - mean_absolute_error: 9.3414 - root_mean_squared_error: 12.3463 - val_loss: 147.4985 - val_mean_absolute_error: 9.4286 - val_root_mean_squared_error: 12.1449\n",
      "Epoch 6/100\n",
      "168/168 [==============================] - 1s 4ms/step - loss: 145.8412 - mean_absolute_error: 9.1845 - root_mean_squared_error: 12.0765 - val_loss: 142.7834 - val_mean_absolute_error: 9.5429 - val_root_mean_squared_error: 11.9492\n",
      "Epoch 7/100\n",
      "168/168 [==============================] - 1s 4ms/step - loss: 141.2599 - mean_absolute_error: 9.1050 - root_mean_squared_error: 11.8853 - val_loss: 150.6991 - val_mean_absolute_error: 9.8916 - val_root_mean_squared_error: 12.2760\n",
      "Epoch 8/100\n",
      "168/168 [==============================] - 1s 4ms/step - loss: 137.7186 - mean_absolute_error: 9.0081 - root_mean_squared_error: 11.7354 - val_loss: 142.8806 - val_mean_absolute_error: 9.4216 - val_root_mean_squared_error: 11.9533\n",
      "Epoch 9/100\n",
      "168/168 [==============================] - 1s 4ms/step - loss: 141.5961 - mean_absolute_error: 9.0743 - root_mean_squared_error: 11.8994 - val_loss: 141.8396 - val_mean_absolute_error: 9.4289 - val_root_mean_squared_error: 11.9096\n",
      "Epoch 10/100\n",
      "168/168 [==============================] - 1s 4ms/step - loss: 139.9308 - mean_absolute_error: 8.9692 - root_mean_squared_error: 11.8292 - val_loss: 144.0194 - val_mean_absolute_error: 9.4972 - val_root_mean_squared_error: 12.0008\n",
      "Epoch 11/100\n",
      "168/168 [==============================] - 1s 4ms/step - loss: 138.5344 - mean_absolute_error: 8.9524 - root_mean_squared_error: 11.7701 - val_loss: 142.6745 - val_mean_absolute_error: 9.2520 - val_root_mean_squared_error: 11.9446\n",
      "Epoch 12/100\n",
      "168/168 [==============================] - 1s 4ms/step - loss: 136.3887 - mean_absolute_error: 8.8854 - root_mean_squared_error: 11.6786 - val_loss: 141.5524 - val_mean_absolute_error: 9.3374 - val_root_mean_squared_error: 11.8976\n",
      "Epoch 13/100\n",
      "168/168 [==============================] - 1s 4ms/step - loss: 137.0522 - mean_absolute_error: 8.9346 - root_mean_squared_error: 11.7069 - val_loss: 150.9723 - val_mean_absolute_error: 9.7576 - val_root_mean_squared_error: 12.2871\n",
      "Epoch 14/100\n",
      "168/168 [==============================] - 1s 4ms/step - loss: 136.5467 - mean_absolute_error: 8.9117 - root_mean_squared_error: 11.6853 - val_loss: 146.1646 - val_mean_absolute_error: 9.5561 - val_root_mean_squared_error: 12.0899\n",
      "Epoch 15/100\n",
      "168/168 [==============================] - 1s 4ms/step - loss: 134.2563 - mean_absolute_error: 8.7778 - root_mean_squared_error: 11.5869 - val_loss: 140.9074 - val_mean_absolute_error: 9.2632 - val_root_mean_squared_error: 11.8704\n",
      "Epoch 16/100\n",
      "168/168 [==============================] - 1s 5ms/step - loss: 134.4223 - mean_absolute_error: 8.8061 - root_mean_squared_error: 11.5941 - val_loss: 144.1528 - val_mean_absolute_error: 9.5509 - val_root_mean_squared_error: 12.0064\n",
      "Epoch 17/100\n",
      "168/168 [==============================] - 1s 4ms/step - loss: 133.5234 - mean_absolute_error: 8.7907 - root_mean_squared_error: 11.5552 - val_loss: 142.5913 - val_mean_absolute_error: 9.5355 - val_root_mean_squared_error: 11.9412\n",
      "Epoch 18/100\n",
      "168/168 [==============================] - 1s 4ms/step - loss: 133.1817 - mean_absolute_error: 8.7622 - root_mean_squared_error: 11.5404 - val_loss: 147.3247 - val_mean_absolute_error: 9.5555 - val_root_mean_squared_error: 12.1377\n",
      "Epoch 19/100\n",
      "168/168 [==============================] - 1s 4ms/step - loss: 135.3425 - mean_absolute_error: 8.8371 - root_mean_squared_error: 11.6337 - val_loss: 143.0936 - val_mean_absolute_error: 9.4491 - val_root_mean_squared_error: 11.9622\n",
      "Epoch 20/100\n",
      "168/168 [==============================] - 1s 4ms/step - loss: 134.7843 - mean_absolute_error: 8.8206 - root_mean_squared_error: 11.6097 - val_loss: 141.7699 - val_mean_absolute_error: 9.3250 - val_root_mean_squared_error: 11.9067\n",
      "Epoch 21/100\n",
      "168/168 [==============================] - 1s 4ms/step - loss: 133.4478 - mean_absolute_error: 8.7837 - root_mean_squared_error: 11.5520 - val_loss: 141.9301 - val_mean_absolute_error: 9.4038 - val_root_mean_squared_error: 11.9134\n",
      "Epoch 22/100\n",
      "168/168 [==============================] - 1s 4ms/step - loss: 132.7672 - mean_absolute_error: 8.7566 - root_mean_squared_error: 11.5225 - val_loss: 140.7271 - val_mean_absolute_error: 9.3672 - val_root_mean_squared_error: 11.8628\n",
      "Epoch 23/100\n",
      "168/168 [==============================] - 1s 4ms/step - loss: 133.0042 - mean_absolute_error: 8.7573 - root_mean_squared_error: 11.5327 - val_loss: 143.1861 - val_mean_absolute_error: 9.4400 - val_root_mean_squared_error: 11.9660\n",
      "Epoch 24/100\n",
      "168/168 [==============================] - 1s 4ms/step - loss: 134.1497 - mean_absolute_error: 8.7940 - root_mean_squared_error: 11.5823 - val_loss: 141.6685 - val_mean_absolute_error: 9.4165 - val_root_mean_squared_error: 11.9025\n",
      "Epoch 25/100\n",
      "168/168 [==============================] - 1s 4ms/step - loss: 132.1957 - mean_absolute_error: 8.7397 - root_mean_squared_error: 11.4976 - val_loss: 149.7378 - val_mean_absolute_error: 9.7387 - val_root_mean_squared_error: 12.2367\n",
      "Epoch 26/100\n",
      "168/168 [==============================] - 1s 4ms/step - loss: 131.8332 - mean_absolute_error: 8.6932 - root_mean_squared_error: 11.4819 - val_loss: 141.3277 - val_mean_absolute_error: 9.3650 - val_root_mean_squared_error: 11.8881\n",
      "Epoch 27/100\n",
      "168/168 [==============================] - 1s 4ms/step - loss: 130.4509 - mean_absolute_error: 8.6740 - root_mean_squared_error: 11.4215 - val_loss: 141.2131 - val_mean_absolute_error: 9.4591 - val_root_mean_squared_error: 11.8833\n",
      "Epoch 28/100\n",
      "168/168 [==============================] - 1s 4ms/step - loss: 131.0049 - mean_absolute_error: 8.6899 - root_mean_squared_error: 11.4457 - val_loss: 145.4765 - val_mean_absolute_error: 9.6069 - val_root_mean_squared_error: 12.0614\n",
      "Epoch 29/100\n",
      "168/168 [==============================] - 1s 4ms/step - loss: 129.8554 - mean_absolute_error: 8.6770 - root_mean_squared_error: 11.3954 - val_loss: 142.9550 - val_mean_absolute_error: 9.4305 - val_root_mean_squared_error: 11.9564\n",
      "Epoch 30/100\n",
      "168/168 [==============================] - 1s 4ms/step - loss: 129.7178 - mean_absolute_error: 8.6272 - root_mean_squared_error: 11.3894 - val_loss: 143.3241 - val_mean_absolute_error: 9.3932 - val_root_mean_squared_error: 11.9718\n",
      "Epoch 31/100\n",
      "168/168 [==============================] - 1s 4ms/step - loss: 128.0565 - mean_absolute_error: 8.5765 - root_mean_squared_error: 11.3162 - val_loss: 144.2151 - val_mean_absolute_error: 9.5655 - val_root_mean_squared_error: 12.0090\n",
      "Epoch 32/100\n",
      "161/168 [===========================>..] - ETA: 0s - loss: 128.1134 - mean_absolute_error: 8.5962 - root_mean_squared_error: 11.3187Restoring model weights from the end of the best epoch: 22.\n",
      "168/168 [==============================] - 1s 4ms/step - loss: 128.3441 - mean_absolute_error: 8.6048 - root_mean_squared_error: 11.3289 - val_loss: 144.7169 - val_mean_absolute_error: 9.6045 - val_root_mean_squared_error: 12.0298\n",
      "Epoch 32: early stopping\n"
     ]
    }
   ],
   "source": [
    "history = model.fit(\n",
    "    train_ds,\n",
    "    validation_data=val_ds,\n",
    "    epochs=100,\n",
    "    verbose=1,\n",
    "    callbacks=[\n",
    "        tf.keras.callbacks.EarlyStopping(\n",
    "            patience=10, restore_best_weights=True, verbose=1\n",
    "        ),\n",
    "    ],\n",
    ")\n"
   ]
  },
  {
   "cell_type": "code",
   "execution_count": 46,
   "metadata": {},
   "outputs": [
    {
     "data": {
      "text/plain": [
       "<matplotlib.legend.Legend at 0x7f297c36e9b0>"
      ]
     },
     "execution_count": 46,
     "metadata": {},
     "output_type": "execute_result"
    },
    {
     "data": {
      "image/png": "[encoded data removed]",
      "text/plain": [
       "<Figure size 640x480 with 1 Axes>"
      ]
     },
     "metadata": {},
     "output_type": "display_data"
    }
   ],
   "source": [
    "plt.plot(history.history['loss'], label='train')\n",
    "plt.plot(history.history['val_loss'], label='val')\n",
    "plt.title('Loss (MSE)')\n",
    "plt.legend()"
   ]
  },
  {
   "cell_type": "code",
   "execution_count": 47,
   "metadata": {},
   "outputs": [
    {
     "data": {
      "text/plain": [
       "<matplotlib.legend.Legend at 0x7f297c72ff40>"
      ]
     },
     "execution_count": 47,
     "metadata": {},
     "output_type": "execute_result"
    },
    {
     "data": {
      "image/png": "[encoded data removed]",
      "text/plain": [
       "<Figure size 640x480 with 1 Axes>"
      ]
     },
     "metadata": {},
     "output_type": "display_data"
    }
   ],
   "source": [
    "plt.plot(history.history['mean_absolute_error'], label='train')\n",
    "plt.plot(history.history['val_mean_absolute_error'], label='val')\n",
    "plt.title('Mean Absolute Error')\n",
    "plt.legend()"
   ]
  },
  {
   "cell_type": "code",
   "execution_count": 48,
   "metadata": {},
   "outputs": [
    {
     "data": {
      "text/plain": [
       "<matplotlib.legend.Legend at 0x7f297c2abe20>"
      ]
     },
     "execution_count": 48,
     "metadata": {},
     "output_type": "execute_result"
    },
    {
     "data": {
      "image/png": "[encoded data removed]",
      "text/plain": [
       "<Figure size 640x480 with 1 Axes>"
      ]
     },
     "metadata": {},
     "output_type": "display_data"
    }
   ],
   "source": [
    "plt.plot(history.history['root_mean_squared_error'], label='train')\n",
    "plt.plot(history.history['val_root_mean_squared_error'], label='val')\n",
    "plt.title('Root Mean Squared Error')\n",
    "plt.legend()"
   ]
  },
  {
   "cell_type": "code",
   "execution_count": 49,
   "metadata": {},
   "outputs": [
    {
     "name": "stdout",
     "output_type": "stream",
     "text": [
      "17/17 [==============================] - 0s 3ms/step - loss: 150.3710 - mean_absolute_error: 9.5584 - root_mean_squared_error: 12.2626\n"
     ]
    },
    {
     "name": "stderr",
     "output_type": "stream",
     "text": [
      "[2023-03-11 11:19:55,838][    INFO][__main__] Evaluation MSE: 150.37098693847656, MAE: 9.558380126953125, RMSE: 12.262584686279297\n"
     ]
    }
   ],
   "source": [
    "eval_mse, eval_mae, eval_rmse = model.evaluate(eval_ds)\n",
    "logger.info(\"Evaluation MSE: %s, MAE: %s, RMSE: %s\", eval_mse, eval_mae, eval_rmse)"
   ]
  },
  {
   "cell_type": "code",
   "execution_count": 51,
   "metadata": {},
   "outputs": [],
   "source": [
    "wrapper_model = tf.keras.Model(\n",
    "    inputs={\n",
    "        ID_COLUMN: id_input,\n",
    "        OLD_COLUMN: old_input,\n",
    "        **feature_inputs,\n",
    "        **feature_engineering_inputs,\n",
    "    },\n",
    "    outputs={\n",
    "        ID_COLUMN: id_input,\n",
    "        TARGET_COLUMN: tf.squeeze(\n",
    "            model(\n",
    "                {**feature_inputs, **feature_engineering_inputs, OLD_COLUMN: old_input},\n",
    "                training=False,\n",
    "            ),\n",
    "            axis=1,\n",
    "        ),\n",
    "    },\n",
    ")\n"
   ]
  },
  {
   "cell_type": "code",
   "execution_count": 52,
   "metadata": {},
   "outputs": [],
   "source": [
    "test_ds = df_to_dataset(test_transformed_df).batch(batch_size)"
   ]
  },
  {
   "cell_type": "code",
   "execution_count": 53,
   "metadata": {},
   "outputs": [
    {
     "name": "stdout",
     "output_type": "stream",
     "text": [
      "113/113 [==============================] - 1s 3ms/step\n"
     ]
    }
   ],
   "source": [
    "predictions = wrapper_model.predict(test_ds)"
   ]
  },
  {
   "cell_type": "code",
   "execution_count": 54,
   "metadata": {},
   "outputs": [
    {
     "data": {
      "text/plain": [
       "{'id': (3605,), 'Strength': (3605,)}"
      ]
     },
     "execution_count": 54,
     "metadata": {},
     "output_type": "execute_result"
    }
   ],
   "source": [
    "{k: v.shape for k, v in predictions.items()}"
   ]
  },
  {
   "cell_type": "code",
   "execution_count": 55,
   "metadata": {},
   "outputs": [],
   "source": [
    "pl.DataFrame(predictions).write_csv(Path.cwd() / 'submission.csv')"
   ]
  }
 ],
 "metadata": {
  "kernelspec": {
   "display_name": ".venv",
   "language": "python",
   "name": "python3"
  },
  "language_info": {
   "codemirror_mode": {
    "name": "ipython",
    "version": 3
   },
   "file_extension": ".py",
   "mimetype": "text/x-python",
   "name": "python",
   "nbconvert_exporter": "python",
   "pygments_lexer": "ipython3",
   "version": "3.10.6"
  },
  "orig_nbformat": 4
 },
 "nbformat": 4,
 "nbformat_minor": 2
}
